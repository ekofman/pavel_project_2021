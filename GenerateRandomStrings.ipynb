{
 "cells": [
  {
   "cell_type": "code",
   "execution_count": 81,
   "metadata": {},
   "outputs": [],
   "source": [
    "import random"
   ]
  },
  {
   "cell_type": "markdown",
   "metadata": {},
   "source": [
    "# Variables"
   ]
  },
  {
   "cell_type": "code",
   "execution_count": 118,
   "metadata": {},
   "outputs": [],
   "source": [
    "nucleotides = ['A', 'C', 'T', 'G']\n",
    "length = 10\n",
    "m = 4\n",
    "g = 4\n",
    "k = 1\n",
    "\n",
    "# Number of splits from each string at each generation (i.e., one bacteria splitting in half to become two)\n",
    "s = 2"
   ]
  },
  {
   "cell_type": "markdown",
   "metadata": {},
   "source": [
    "### Generate our starting population of m ancestor strings"
   ]
  },
  {
   "cell_type": "code",
   "execution_count": 119,
   "metadata": {},
   "outputs": [
    {
     "data": {
      "text/plain": [
       "[('GTTCAAAACA', 0), ('CCCTCGAGGG', 1), ('TAAGAGAGTC', 2), ('GGCATCCCCT', 3)]"
      ]
     },
     "execution_count": 119,
     "metadata": {},
     "output_type": "execute_result"
    }
   ],
   "source": [
    "ancestors = []\n",
    "for i in range(m):\n",
    "    rand_ancestor = ''\n",
    "    for j in range(length):\n",
    "        rand_nucleotide = random.choice(nucleotides)\n",
    "        rand_ancestor = rand_ancestor + rand_nucleotide\n",
    "    ancestors.append((rand_ancestor, i))\n",
    "ancestors"
   ]
  },
  {
   "cell_type": "code",
   "execution_count": 120,
   "metadata": {},
   "outputs": [
    {
     "data": {
      "text/plain": [
       "'ACTC'"
      ]
     },
     "execution_count": 120,
     "metadata": {},
     "output_type": "execute_result"
    }
   ],
   "source": [
    "def mutate_string(string, k):\n",
    "    \"\"\" Mutate k locations in the given string, returning this new mutated string\"\"\"\n",
    "    indices_to_replace = random.sample(range(0, len(string)), k)\n",
    "    new_string = ''\n",
    "    for i in range(len(string)):\n",
    "        if i in indices_to_replace:\n",
    "            new_string = new_string + random.choice(nucleotides)\n",
    "        else:\n",
    "            new_string = new_string + string[i]\n",
    "            \n",
    "    return new_string\n",
    "  \n",
    "# Test function...\n",
    "mutate_string('ACTG', 1)"
   ]
  },
  {
   "cell_type": "markdown",
   "metadata": {},
   "source": [
    "### Generate descendants!"
   ]
  },
  {
   "cell_type": "code",
   "execution_count": 121,
   "metadata": {},
   "outputs": [],
   "source": [
    "# For each string, for the number of generations specified, split each string into \"s\" strings all with \"k\" mutations \n",
    "# compared to the parent string. \n",
    "population = ancestors\n",
    "for generations in range(g):\n",
    "    new_population = []\n",
    "    for string, origin in population:\n",
    "        for splits in range(s):\n",
    "            new_string = mutate_string(string, k) \n",
    "            new_population.append((new_string, origin))\n",
    "    population = new_population\n",
    "    \n",
    "# (population contains tuples that also indicate which of the original 'm' ancestors each descendant came from)"
   ]
  },
  {
   "cell_type": "code",
   "execution_count": 122,
   "metadata": {},
   "outputs": [
    {
     "name": "stdout",
     "output_type": "stream",
     "text": [
      "ATTAAAAACG\n",
      "GTTAAAATCG\n",
      "GTTAAACACG\n",
      "GTTAATGACG\n",
      "GTTAAAGTCA\n",
      "GTTAAAATCG\n",
      "GTTAATAACA\n",
      "GTTAAAAACA\n",
      "CTTCAAGACA\n",
      "CTTCAAAGCA\n",
      "CTCCAAAGTA\n",
      "CACCAAAATA\n",
      "CTTCTAAACA\n",
      "CTTCAAAGCA\n",
      "ATTCAAAACT\n",
      "ACTCAAAACT\n",
      "CTCATGAAGG\n",
      "CTTACGAAGG\n",
      "TTCACGACGG\n",
      "ATCACGACGG\n",
      "CGCTCCAGGG\n",
      "CGCTCCAGGG\n",
      "CTCTCCAGGG\n",
      "TTCTCCAGGG\n",
      "CATTCGCAGG\n",
      "CACTGGCAGG\n",
      "CACTCGAACG\n",
      "CACTCAAACG\n",
      "TTCTCGAGGC\n",
      "CTCTCGAGGC\n",
      "CACGCGATGC\n",
      "CACGCCAGGC\n",
      "TAAGACTGAC\n",
      "TAAGCGTGAC\n",
      "TAAGAGTGAC\n",
      "TAACAGTGAC\n",
      "TAAGAATGAC\n",
      "TATGAATGAC\n",
      "AGAGAATGTC\n",
      "TGAAAATGTC\n",
      "AGAGAGACTC\n",
      "TAAGAGACTC\n",
      "TAAGCTACTC\n",
      "TAAGATACCC\n",
      "TAAGCAAGTC\n",
      "TAAGCGAGTG\n",
      "TATGAGAGTT\n",
      "TCAGAGAGTT\n",
      "GCAATCCCAT\n",
      "GCAATCCCAT\n",
      "GTACTCCCAT\n",
      "GGCCTCCCAT\n",
      "TGAATGCCCT\n",
      "TGAATCCCCT\n",
      "TGACTCCCCT\n",
      "TGAATCCGCT\n",
      "GATATGCCCA\n",
      "GGTATGCTCA\n",
      "GGGATGCCCA\n",
      "GGCATGCCCA\n",
      "GACCTCCCCA\n",
      "GTCCTCTCCA\n",
      "GCCCTCCTCA\n",
      "GGCCTCCACA\n"
     ]
    }
   ],
   "source": [
    "for descendant in population:\n",
    "    print(descendant[0])"
   ]
  },
  {
   "cell_type": "code",
   "execution_count": null,
   "metadata": {},
   "outputs": [],
   "source": []
  }
 ],
 "metadata": {
  "kernelspec": {
   "display_name": "Python 3",
   "language": "python",
   "name": "python3"
  },
  "language_info": {
   "codemirror_mode": {
    "name": "ipython",
    "version": 3
   },
   "file_extension": ".py",
   "mimetype": "text/x-python",
   "name": "python",
   "nbconvert_exporter": "python",
   "pygments_lexer": "ipython3",
   "version": "3.7.3"
  }
 },
 "nbformat": 4,
 "nbformat_minor": 2
}
